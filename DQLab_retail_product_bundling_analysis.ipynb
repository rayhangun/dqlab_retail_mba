{
  "nbformat": 4,
  "nbformat_minor": 0,
  "metadata": {
    "colab": {
      "provenance": []
    },
    "kernelspec": {
      "name": "python3",
      "display_name": "Python 3"
    },
    "language_info": {
      "name": "python"
    }
  },
  "cells": [
    {
      "cell_type": "markdown",
      "source": [
        "Market Basket Analysis (MBA)\n",
        "\n",
        "Tujuan dari MBA adalah untuk mengetahui produk-produk mana yang mungkin akan dibeli secara bersamaan."
      ],
      "metadata": {
        "id": "CzZNVfDZJa0G"
      }
    },
    {
      "cell_type": "code",
      "execution_count": 1,
      "metadata": {
        "id": "MlzcYPYNcY4Y"
      },
      "outputs": [],
      "source": [
        "#Mengimpor library pandas & numpy\n",
        "import pandas as pd\n",
        "import numpy as np"
      ]
    },
    {
      "cell_type": "code",
      "source": [
        "#Membaca file\n",
        "dataset_transaksi = pd.read_csv('https://storage.googleapis.com/dqlab-dataset/transaksi_dqlab_retail.tsv', sep='\\t')\n",
        "\n",
        "#Menampilkan isi data\n",
        "print(dataset_transaksi)"
      ],
      "metadata": {
        "colab": {
          "base_uri": "https://localhost:8080/"
        },
        "id": "WwFaTeQzc27R",
        "outputId": "89f8a72d-8ac5-46a7-9904-66b1f5701167"
      },
      "execution_count": 2,
      "outputs": [
        {
          "output_type": "stream",
          "name": "stdout",
          "text": [
            "      Kode Transaksi              Nama Barang\n",
            "0                 #1                     Kaos\n",
            "1                 #1             Shampo Biasa\n",
            "2                 #1      Sepatu Sport merk Z\n",
            "3                 #1            Serum Vitamin\n",
            "4                 #1  Baju Renang Pria Dewasa\n",
            "...              ...                      ...\n",
            "33663          #3450     Flat Shoes Ballerina\n",
            "33664          #3450       Sepatu Sandal Anak\n",
            "33665          #3450      Sepatu Kulit Casual\n",
            "33666          #3450     Celana Jogger Casual\n",
            "33667          #3450      Sepatu Sport merk Z\n",
            "\n",
            "[33668 rows x 2 columns]\n"
          ]
        }
      ]
    },
    {
      "cell_type": "markdown",
      "source": [
        "Selanjutnya, untuk memastikan lagi tipe data dan tidak ada data yang null. Aku menggunakan function info() untuk melihat detail dari dataset tersebut."
      ],
      "metadata": {
        "id": "IdOh7eyrd3TQ"
      }
    },
    {
      "cell_type": "code",
      "source": [
        "#Melihat detail tipe data\n",
        "dataset_transaksi.info()"
      ],
      "metadata": {
        "colab": {
          "base_uri": "https://localhost:8080/"
        },
        "id": "Vx6oTFpgd08f",
        "outputId": "d50fdc65-0e2b-46f2-f229-e08aa7a2174a"
      },
      "execution_count": 3,
      "outputs": [
        {
          "output_type": "stream",
          "name": "stdout",
          "text": [
            "<class 'pandas.core.frame.DataFrame'>\n",
            "RangeIndex: 33668 entries, 0 to 33667\n",
            "Data columns (total 2 columns):\n",
            " #   Column          Non-Null Count  Dtype \n",
            "---  ------          --------------  ----- \n",
            " 0   Kode Transaksi  33668 non-null  object\n",
            " 1   Nama Barang     33668 non-null  object\n",
            "dtypes: object(2)\n",
            "memory usage: 526.2+ KB\n"
          ]
        }
      ]
    },
    {
      "cell_type": "markdown",
      "source": [
        "Aku menyadari barang yang terdapat pada data transaksi retail belum dikelompokkan berdasarkan kode transaksi. Melihat permasalahan itu, aku merasa perlu mengelompokkan barang sesuai **kode transaksi yang sama**. Hal ini perlu dilakukan, untuk mengetahui barang apa saja yang terdapat pada basket yang sama.\n",
        "\n",
        "Aku membutuhkan satu kolom bantuan diberi nama “Flag”. Kolom “Flag” ini akan membantu menandakan barang apa saja yang terdapat pada satu keranjang yang sama.\n",
        "\n",
        "Setelah itu, aku membuat kode berikut untuk menambahkan kolom baru bernama “Flag” dengan value 1."
      ],
      "metadata": {
        "id": "WuJmMsXuegTB"
      }
    },
    {
      "cell_type": "code",
      "source": [
        "#Flag digunakan untuk menandakan barang/item terdapat pada basket.\n",
        "dataset_transaksi['Flag'] = 1\n",
        "\n",
        "#Menampilkan isi data\n",
        "print(dataset_transaksi)"
      ],
      "metadata": {
        "colab": {
          "base_uri": "https://localhost:8080/"
        },
        "id": "z-rFQ5VXeeH7",
        "outputId": "e7317c87-eba2-4ec8-a532-2de9dbd586ef"
      },
      "execution_count": 4,
      "outputs": [
        {
          "output_type": "stream",
          "name": "stdout",
          "text": [
            "      Kode Transaksi              Nama Barang  Flag\n",
            "0                 #1                     Kaos     1\n",
            "1                 #1             Shampo Biasa     1\n",
            "2                 #1      Sepatu Sport merk Z     1\n",
            "3                 #1            Serum Vitamin     1\n",
            "4                 #1  Baju Renang Pria Dewasa     1\n",
            "...              ...                      ...   ...\n",
            "33663          #3450     Flat Shoes Ballerina     1\n",
            "33664          #3450       Sepatu Sandal Anak     1\n",
            "33665          #3450      Sepatu Kulit Casual     1\n",
            "33666          #3450     Celana Jogger Casual     1\n",
            "33667          #3450      Sepatu Sport merk Z     1\n",
            "\n",
            "[33668 rows x 3 columns]\n"
          ]
        }
      ]
    },
    {
      "cell_type": "markdown",
      "source": [
        "Kemudian, aku mengelompokkan “Flag” berdasarkan kolom “Kode Transaksi” dan “Nama Barang” menggunakan function groupby()"
      ],
      "metadata": {
        "id": "S-uZkZndfmN1"
      }
    },
    {
      "cell_type": "code",
      "source": [
        "#Melakukan pengelompokkan Flag berdasarkan kolom Kode Transaksi dan Nama Barang\n",
        "basket = dataset_transaksi.groupby(['Kode Transaksi','Nama Barang'])['Flag'].sum().unstack().reset_index().fillna(0).set_index('Kode Transaksi')\n",
        "\n",
        "#Menampilkan basket\n",
        "print(basket)"
      ],
      "metadata": {
        "colab": {
          "base_uri": "https://localhost:8080/"
        },
        "id": "SsknrQ3SfoDw",
        "outputId": "5b8180af-3a34-4da1-c081-50fe53b89c6f"
      },
      "execution_count": 5,
      "outputs": [
        {
          "output_type": "stream",
          "name": "stdout",
          "text": [
            "Nama Barang     Atasan Baju Belang  Atasan Kaos Putih  Baju Batik Wanita  \\\n",
            "Kode Transaksi                                                             \n",
            "#1                             0.0                0.0                0.0   \n",
            "#10                            0.0                0.0                1.0   \n",
            "#100                           0.0                0.0                0.0   \n",
            "#1000                          0.0                0.0                1.0   \n",
            "#1001                          0.0                0.0                0.0   \n",
            "...                            ...                ...                ...   \n",
            "#995                           0.0                1.0                0.0   \n",
            "#996                           0.0                0.0                0.0   \n",
            "#997                           0.0                0.0                1.0   \n",
            "#998                           0.0                0.0                1.0   \n",
            "#999                           0.0                0.0                1.0   \n",
            "\n",
            "Nama Barang     Baju Kaos Anak - Karakter Kartun  \\\n",
            "Kode Transaksi                                     \n",
            "#1                                           0.0   \n",
            "#10                                          0.0   \n",
            "#100                                         0.0   \n",
            "#1000                                        0.0   \n",
            "#1001                                        0.0   \n",
            "...                                          ...   \n",
            "#995                                         0.0   \n",
            "#996                                         0.0   \n",
            "#997                                         0.0   \n",
            "#998                                         0.0   \n",
            "#999                                         1.0   \n",
            "\n",
            "Nama Barang     Baju Kaos Anak - Superheroes  Baju Kaos Olahraga  \\\n",
            "Kode Transaksi                                                     \n",
            "#1                                       0.0                 1.0   \n",
            "#10                                      0.0                 0.0   \n",
            "#100                                     0.0                 0.0   \n",
            "#1000                                    0.0                 0.0   \n",
            "#1001                                    0.0                 0.0   \n",
            "...                                      ...                 ...   \n",
            "#995                                     0.0                 1.0   \n",
            "#996                                     0.0                 0.0   \n",
            "#997                                     1.0                 0.0   \n",
            "#998                                     1.0                 0.0   \n",
            "#999                                     0.0                 0.0   \n",
            "\n",
            "Nama Barang     Baju Kemeja Putih  Baju Renang Anak Perempuan  \\\n",
            "Kode Transaksi                                                  \n",
            "#1                            0.0                         0.0   \n",
            "#10                           1.0                         0.0   \n",
            "#100                          0.0                         0.0   \n",
            "#1000                         0.0                         0.0   \n",
            "#1001                         0.0                         0.0   \n",
            "...                           ...                         ...   \n",
            "#995                          0.0                         0.0   \n",
            "#996                          0.0                         0.0   \n",
            "#997                          1.0                         0.0   \n",
            "#998                          0.0                         0.0   \n",
            "#999                          0.0                         0.0   \n",
            "\n",
            "Nama Barang     Baju Renang Pria Anak-anak  Baju Renang Pria Dewasa  ...  \\\n",
            "Kode Transaksi                                                       ...   \n",
            "#1                                     0.0                      1.0  ...   \n",
            "#10                                    0.0                      0.0  ...   \n",
            "#100                                   0.0                      0.0  ...   \n",
            "#1000                                  0.0                      1.0  ...   \n",
            "#1001                                  0.0                      1.0  ...   \n",
            "...                                    ...                      ...  ...   \n",
            "#995                                   0.0                      1.0  ...   \n",
            "#996                                   0.0                      1.0  ...   \n",
            "#997                                   0.0                      0.0  ...   \n",
            "#998                                   0.0                      0.0  ...   \n",
            "#999                                   0.0                      0.0  ...   \n",
            "\n",
            "Nama Barang     Tas Multifungsi  Tas Pinggang Wanita  Tas Ransel Mini  \\\n",
            "Kode Transaksi                                                          \n",
            "#1                          0.0                  0.0              0.0   \n",
            "#10                         0.0                  0.0              0.0   \n",
            "#100                        0.0                  0.0              0.0   \n",
            "#1000                       0.0                  0.0              0.0   \n",
            "#1001                       0.0                  0.0              0.0   \n",
            "...                         ...                  ...              ...   \n",
            "#995                        0.0                  0.0              0.0   \n",
            "#996                        1.0                  0.0              0.0   \n",
            "#997                        0.0                  0.0              0.0   \n",
            "#998                        0.0                  1.0              0.0   \n",
            "#999                        0.0                  0.0              0.0   \n",
            "\n",
            "Nama Barang     Tas Sekolah Anak Laki-laki  Tas Sekolah Anak Perempuan  \\\n",
            "Kode Transaksi                                                           \n",
            "#1                                     0.0                         0.0   \n",
            "#10                                    0.0                         0.0   \n",
            "#100                                   0.0                         0.0   \n",
            "#1000                                  0.0                         0.0   \n",
            "#1001                                  1.0                         0.0   \n",
            "...                                    ...                         ...   \n",
            "#995                                   0.0                         0.0   \n",
            "#996                                   1.0                         0.0   \n",
            "#997                                   0.0                         0.0   \n",
            "#998                                   0.0                         0.0   \n",
            "#999                                   0.0                         0.0   \n",
            "\n",
            "Nama Barang     Tas Tangan  Tas Travel  Tas Waist Bag  Wedges Hitam  \\\n",
            "Kode Transaksi                                                        \n",
            "#1                     0.0         0.0            0.0           0.0   \n",
            "#10                    0.0         0.0            0.0           1.0   \n",
            "#100                   0.0         0.0            0.0           0.0   \n",
            "#1000                  0.0         0.0            0.0           0.0   \n",
            "#1001                  0.0         1.0            0.0           1.0   \n",
            "...                    ...         ...            ...           ...   \n",
            "#995                   0.0         1.0            0.0           1.0   \n",
            "#996                   0.0         1.0            0.0           0.0   \n",
            "#997                   0.0         0.0            0.0           0.0   \n",
            "#998                   0.0         1.0            0.0           0.0   \n",
            "#999                   1.0         0.0            0.0           0.0   \n",
            "\n",
            "Nama Barang     Woman Ripped Jeans   \n",
            "Kode Transaksi                       \n",
            "#1                              0.0  \n",
            "#10                             0.0  \n",
            "#100                            0.0  \n",
            "#1000                           0.0  \n",
            "#1001                           0.0  \n",
            "...                             ...  \n",
            "#995                            0.0  \n",
            "#996                            0.0  \n",
            "#997                            0.0  \n",
            "#998                            0.0  \n",
            "#999                            0.0  \n",
            "\n",
            "[3450 rows x 69 columns]\n"
          ]
        }
      ]
    },
    {
      "cell_type": "markdown",
      "source": [
        "Karena tujuan memberikan “Flag” adalah hanya untuk mengetahui barang apa yang terdapat dalam satu keranjang, maka perlu melakukan normalisasi pada data.\n",
        "\n",
        "Caranya dengan menandai bahwa barang yang ada di keranjang nilainya adalah 1, sedangkan barang yang tidak ada dalam keranjang nilainya 0."
      ],
      "metadata": {
        "id": "6OxQakErf9iP"
      }
    },
    {
      "cell_type": "code",
      "source": [
        "#Membuat function untuk menormalisasi data\n",
        "def encode_units(x):\n",
        "\tif x <= 0 :\n",
        "\t\treturn 0\n",
        "\tif x > 0:\n",
        "\t\treturn 1"
      ],
      "metadata": {
        "id": "MlxiKBSif_W5"
      },
      "execution_count": 6,
      "outputs": []
    },
    {
      "cell_type": "markdown",
      "source": [
        "Kemudian function tersebut diterapkan pada dataset.Aku membuat dataset baru bernama basket_encode untuk membedakan dengan dataset sebelumnya."
      ],
      "metadata": {
        "id": "tkeHII6pgblM"
      }
    },
    {
      "cell_type": "code",
      "source": [
        "#Menerapkan fungsi encode_units pada dataset\n",
        "basket_encode = basket.applymap(encode_units)\n",
        "\n",
        "#Menampilkan basket_encode\n",
        "print(basket_encode)"
      ],
      "metadata": {
        "colab": {
          "base_uri": "https://localhost:8080/"
        },
        "id": "4Gc2IYQ1gax3",
        "outputId": "94d07893-d4f2-4316-c4d5-c9ce09c7ed3a"
      },
      "execution_count": 7,
      "outputs": [
        {
          "output_type": "stream",
          "name": "stdout",
          "text": [
            "Nama Barang     Atasan Baju Belang  Atasan Kaos Putih  Baju Batik Wanita  \\\n",
            "Kode Transaksi                                                             \n",
            "#1                               0                  0                  0   \n",
            "#10                              0                  0                  1   \n",
            "#100                             0                  0                  0   \n",
            "#1000                            0                  0                  1   \n",
            "#1001                            0                  0                  0   \n",
            "...                            ...                ...                ...   \n",
            "#995                             0                  1                  0   \n",
            "#996                             0                  0                  0   \n",
            "#997                             0                  0                  1   \n",
            "#998                             0                  0                  1   \n",
            "#999                             0                  0                  1   \n",
            "\n",
            "Nama Barang     Baju Kaos Anak - Karakter Kartun  \\\n",
            "Kode Transaksi                                     \n",
            "#1                                             0   \n",
            "#10                                            0   \n",
            "#100                                           0   \n",
            "#1000                                          0   \n",
            "#1001                                          0   \n",
            "...                                          ...   \n",
            "#995                                           0   \n",
            "#996                                           0   \n",
            "#997                                           0   \n",
            "#998                                           0   \n",
            "#999                                           1   \n",
            "\n",
            "Nama Barang     Baju Kaos Anak - Superheroes  Baju Kaos Olahraga  \\\n",
            "Kode Transaksi                                                     \n",
            "#1                                         0                   1   \n",
            "#10                                        0                   0   \n",
            "#100                                       0                   0   \n",
            "#1000                                      0                   0   \n",
            "#1001                                      0                   0   \n",
            "...                                      ...                 ...   \n",
            "#995                                       0                   1   \n",
            "#996                                       0                   0   \n",
            "#997                                       1                   0   \n",
            "#998                                       1                   0   \n",
            "#999                                       0                   0   \n",
            "\n",
            "Nama Barang     Baju Kemeja Putih  Baju Renang Anak Perempuan  \\\n",
            "Kode Transaksi                                                  \n",
            "#1                              0                           0   \n",
            "#10                             1                           0   \n",
            "#100                            0                           0   \n",
            "#1000                           0                           0   \n",
            "#1001                           0                           0   \n",
            "...                           ...                         ...   \n",
            "#995                            0                           0   \n",
            "#996                            0                           0   \n",
            "#997                            1                           0   \n",
            "#998                            0                           0   \n",
            "#999                            0                           0   \n",
            "\n",
            "Nama Barang     Baju Renang Pria Anak-anak  Baju Renang Pria Dewasa  ...  \\\n",
            "Kode Transaksi                                                       ...   \n",
            "#1                                       0                        1  ...   \n",
            "#10                                      0                        0  ...   \n",
            "#100                                     0                        0  ...   \n",
            "#1000                                    0                        1  ...   \n",
            "#1001                                    0                        1  ...   \n",
            "...                                    ...                      ...  ...   \n",
            "#995                                     0                        1  ...   \n",
            "#996                                     0                        1  ...   \n",
            "#997                                     0                        0  ...   \n",
            "#998                                     0                        0  ...   \n",
            "#999                                     0                        0  ...   \n",
            "\n",
            "Nama Barang     Tas Multifungsi  Tas Pinggang Wanita  Tas Ransel Mini  \\\n",
            "Kode Transaksi                                                          \n",
            "#1                            0                    0                0   \n",
            "#10                           0                    0                0   \n",
            "#100                          0                    0                0   \n",
            "#1000                         0                    0                0   \n",
            "#1001                         0                    0                0   \n",
            "...                         ...                  ...              ...   \n",
            "#995                          0                    0                0   \n",
            "#996                          1                    0                0   \n",
            "#997                          0                    0                0   \n",
            "#998                          0                    1                0   \n",
            "#999                          0                    0                0   \n",
            "\n",
            "Nama Barang     Tas Sekolah Anak Laki-laki  Tas Sekolah Anak Perempuan  \\\n",
            "Kode Transaksi                                                           \n",
            "#1                                       0                           0   \n",
            "#10                                      0                           0   \n",
            "#100                                     0                           0   \n",
            "#1000                                    0                           0   \n",
            "#1001                                    1                           0   \n",
            "...                                    ...                         ...   \n",
            "#995                                     0                           0   \n",
            "#996                                     1                           0   \n",
            "#997                                     0                           0   \n",
            "#998                                     0                           0   \n",
            "#999                                     0                           0   \n",
            "\n",
            "Nama Barang     Tas Tangan  Tas Travel  Tas Waist Bag  Wedges Hitam  \\\n",
            "Kode Transaksi                                                        \n",
            "#1                       0           0              0             0   \n",
            "#10                      0           0              0             1   \n",
            "#100                     0           0              0             0   \n",
            "#1000                    0           0              0             0   \n",
            "#1001                    0           1              0             1   \n",
            "...                    ...         ...            ...           ...   \n",
            "#995                     0           1              0             1   \n",
            "#996                     0           1              0             0   \n",
            "#997                     0           0              0             0   \n",
            "#998                     0           1              0             0   \n",
            "#999                     1           0              0             0   \n",
            "\n",
            "Nama Barang     Woman Ripped Jeans   \n",
            "Kode Transaksi                       \n",
            "#1                                0  \n",
            "#10                               0  \n",
            "#100                              0  \n",
            "#1000                             0  \n",
            "#1001                             0  \n",
            "...                             ...  \n",
            "#995                              0  \n",
            "#996                              0  \n",
            "#997                              0  \n",
            "#998                              0  \n",
            "#999                              0  \n",
            "\n",
            "[3450 rows x 69 columns]\n"
          ]
        },
        {
          "output_type": "stream",
          "name": "stderr",
          "text": [
            "<ipython-input-7-87c3ef2e7479>:2: FutureWarning: DataFrame.applymap has been deprecated. Use DataFrame.map instead.\n",
            "  basket_encode = basket.applymap(encode_units)\n"
          ]
        }
      ]
    },
    {
      "cell_type": "markdown",
      "source": [
        "Mengenal Lift dan Confidence\n",
        "\n",
        "**Confidence** adalah ukuran persentase seberapa kuat hubungan antar item dalam aturan asosiasi.\n",
        "Contoh: pada suatu market, produk Teh dan Gula memiliki nilai confidence 50%, artinya pelanggan yang membeli Teh punya kemungkinan sebesar 50% juga membeli Gula.\n",
        "\n",
        "**Lift** digunakan untuk memvalidasi aturan asosiasi, dengan mengukur ketepatan support dan confidence.\n",
        "Kombinasi itemset dinyatakan valid dan kuat jika nilai Lift > 1.\n",
        "- Jika hasil menunjukkan nilai < 1, maka memiliki korelasi negatif.\n",
        "- Jika hasil menunjukkan nilai > 1, maka memiliki korelasi positif.\n",
        "- Jika hasil menunjukkan nilai = 1, maka tidak ada korelasi."
      ],
      "metadata": {
        "id": "8poaR9MyJ83t"
      }
    },
    {
      "cell_type": "markdown",
      "source": [
        "Mengenal Algoritma Apriori\n",
        "\n",
        "Salah satu algoritma yang dapat digunakan dalam Market Basket Analysis adalah algoritma Apriori.\n",
        "\n",
        "Algoritma Apriori adalah algoritma yang dapat digunakan untuk menentukan frequent itemset untuk aturan asosiasi boolean. Tujuan algoritma ini, untuk mencari kombinasi item yang memenuhi syarat minimum dari nilai support dalam basis data.\n",
        "\n",
        "Frequent itemset, menunjukkan itemset yang memiliki frekuensi kemunculan lebih dari nilai minimum yang ditentukan. Misalkan nilai minimum 2, maka semua itemsets yang frekuensi kemunculannya lebih dari atau sama dengan 2 kali disebut frequent.\n",
        "\n",
        "Nilai support dari sebuah item diperoleh dari jumlah transaksi mengandung item tersebut dibandingkan total transaksi."
      ],
      "metadata": {
        "id": "1VUVwX5IKmR2"
      }
    },
    {
      "cell_type": "code",
      "source": [
        "#Mengimport algoritma apriori\n",
        "from mlxtend.frequent_patterns import apriori"
      ],
      "metadata": {
        "id": "WuLFgDFxKaXb"
      },
      "execution_count": 8,
      "outputs": []
    },
    {
      "cell_type": "code",
      "source": [
        "#Menerapkan algoritma apriori untuk mendapatkan frequent_itemset\n",
        "frequent_itemset = apriori(basket_encode, min_support=0.03, use_colnames=True)\n",
        "\n",
        "print(frequent_itemset)"
      ],
      "metadata": {
        "colab": {
          "base_uri": "https://localhost:8080/"
        },
        "id": "6P67kXok6rN8",
        "outputId": "0fae3fd9-8c02-4362-f233-e2164aeee369"
      },
      "execution_count": 9,
      "outputs": [
        {
          "output_type": "stream",
          "name": "stderr",
          "text": [
            "/usr/local/lib/python3.11/dist-packages/ipykernel/ipkernel.py:283: DeprecationWarning: `should_run_async` will not call `transform_cell` automatically in the future. Please pass the result to `transformed_cell` argument and any exception that happen during thetransform in `preprocessing_exc_tuple` in IPython 7.17 and above.\n",
            "  and should_run_async(code)\n",
            "/usr/local/lib/python3.11/dist-packages/mlxtend/frequent_patterns/fpcommon.py:161: DeprecationWarning: DataFrames with non-bool types result in worse computationalperformance and their support might be discontinued in the future.Please use a DataFrame with bool type\n",
            "  warnings.warn(\n"
          ]
        },
        {
          "output_type": "stream",
          "name": "stdout",
          "text": [
            "       support                                           itemsets\n",
            "0     0.118841                                (Atasan Kaos Putih)\n",
            "1     0.380290                                (Baju Batik Wanita)\n",
            "2     0.121159                 (Baju Kaos Anak - Karakter Kartun)\n",
            "3     0.115942                     (Baju Kaos Anak - Superheroes)\n",
            "4     0.089275                               (Baju Kaos Olahraga)\n",
            "...        ...                                                ...\n",
            "1255  0.031304  (Tas Tangan, Tank Top, Celana Pendek Jeans, Ba...\n",
            "1256  0.042609  (Baju Kemeja Putih, Serum Vitamin, Shampo Bias...\n",
            "1257  0.038551  (Tank Top, Tas Travel, Wedges Hitam, Gembok Ko...\n",
            "1258  0.047536  (Sepatu Sekolah Hitam W, Blouse Denim, Serum V...\n",
            "1259  0.037391  (Atasan Kaos Putih, Tank Top, Tas Travel, Wedg...\n",
            "\n",
            "[1260 rows x 2 columns]\n"
          ]
        }
      ]
    },
    {
      "cell_type": "markdown",
      "source": [
        "Setelah mendapatkan frequent_itemset dan menentukan aturan asosiasi. Langkah pertama yang aku lakukan adalah import association_rules dengan kode berikut."
      ],
      "metadata": {
        "id": "3tAssZlS7pG6"
      }
    },
    {
      "cell_type": "code",
      "source": [
        "#Mengimport association_rules\n",
        "from mlxtend.frequent_patterns import association_rules"
      ],
      "metadata": {
        "colab": {
          "base_uri": "https://localhost:8080/"
        },
        "id": "3BiEm_em7qFf",
        "outputId": "da55749e-c448-4085-eef7-8d560f09188a"
      },
      "execution_count": 10,
      "outputs": [
        {
          "output_type": "stream",
          "name": "stderr",
          "text": [
            "/usr/local/lib/python3.11/dist-packages/ipykernel/ipkernel.py:283: DeprecationWarning: `should_run_async` will not call `transform_cell` automatically in the future. Please pass the result to `transformed_cell` argument and any exception that happen during thetransform in `preprocessing_exc_tuple` in IPython 7.17 and above.\n",
            "  and should_run_async(code)\n"
          ]
        }
      ]
    },
    {
      "cell_type": "code",
      "source": [
        "#Menerapkan association_rules berdasarkan frequent_itemset\n",
        "rules = association_rules(frequent_itemset, metric='lift', min_threshold=1).sort_values('lift', ascending=False).reset_index(drop=True)\n",
        "\n",
        "print(rules)"
      ],
      "metadata": {
        "colab": {
          "base_uri": "https://localhost:8080/"
        },
        "id": "ACcQ0m0P7voK",
        "outputId": "566620c4-bbc6-4e0f-f60c-c3ef883b2e39"
      },
      "execution_count": 11,
      "outputs": [
        {
          "output_type": "stream",
          "name": "stdout",
          "text": [
            "                                            antecedents  \\\n",
            "0     (Baju Kaos Anak - Karakter Kartun, Tank Top, C...   \n",
            "1                             (Tas Tangan, Cover Koper)   \n",
            "2                                (Tas Tangan, Tank Top)   \n",
            "3     (Cover Koper, Baju Kaos Anak - Karakter Kartun...   \n",
            "4     (Cover Koper, Baju Kaos Anak - Karakter Kartun...   \n",
            "...                                                 ...   \n",
            "5143                               (Tali Pinggang Anak)   \n",
            "5144                     (Tas Waist Bag, Serum Vitamin)   \n",
            "5145                                (Baju Kemeja Putih)   \n",
            "5146                        (Serum Vitamin, Hair Dryer)   \n",
            "5147                        (Tali Pinggang Gesper Pria)   \n",
            "\n",
            "                                            consequents  antecedent support  \\\n",
            "0                             (Tas Tangan, Cover Koper)            0.034493   \n",
            "1     (Baju Kaos Anak - Karakter Kartun, Tank Top, C...            0.031884   \n",
            "2     (Cover Koper, Baju Kaos Anak - Karakter Kartun...            0.032464   \n",
            "3                                (Tas Tangan, Tank Top)            0.034203   \n",
            "4                     (Tas Tangan, Celana Pendek Jeans)            0.035072   \n",
            "...                                                 ...                 ...   \n",
            "5143                                     (Wedges Hitam)            0.150725   \n",
            "5144                                (Baju Kemeja Putih)            0.129855   \n",
            "5145                     (Tas Waist Bag, Serum Vitamin)            0.363768   \n",
            "5146                        (Tali Pinggang Gesper Pria)            0.122609   \n",
            "5147                        (Serum Vitamin, Hair Dryer)            0.290725   \n",
            "\n",
            "      consequent support   support  confidence       lift  representativity  \\\n",
            "0               0.031884  0.031304    0.907563  28.464477               1.0   \n",
            "1               0.034493  0.031304    0.981818  28.464477               1.0   \n",
            "2               0.034203  0.031304    0.964286  28.193099               1.0   \n",
            "3               0.032464  0.031304    0.915254  28.193099               1.0   \n",
            "4               0.032464  0.031304    0.892562  27.494097               1.0   \n",
            "...                  ...       ...         ...        ...               ...   \n",
            "5143            0.246087  0.037101    0.246154   1.000272               1.0   \n",
            "5144            0.363768  0.047246    0.363839   1.000196               1.0   \n",
            "5145            0.129855  0.047246    0.129880   1.000196               1.0   \n",
            "5146            0.290725  0.035652    0.290780   1.000191               1.0   \n",
            "5147            0.122609  0.035652    0.122632   1.000191               1.0   \n",
            "\n",
            "      leverage  conviction  zhangs_metric   jaccard  certainty  kulczynski  \n",
            "0     0.030205   10.473254       0.999338  0.892562   0.904519    0.944691  \n",
            "1     0.030205   53.102899       0.996646  0.892562   0.981169    0.944691  \n",
            "2     0.030194   27.042319       0.996893  0.885246   0.963021    0.939770  \n",
            "3     0.030194   11.416928       0.998688  0.885246   0.912411    0.939770  \n",
            "4     0.030166    9.005530       0.998654  0.864000   0.888957    0.928424  \n",
            "...        ...         ...            ...       ...        ...         ...  \n",
            "5143  0.000010    1.000089       0.000320  0.103143   0.000089    0.198460  \n",
            "5144  0.000009    1.000112       0.000225  0.105844   0.000112    0.246860  \n",
            "5145  0.000009    1.000029       0.000307  0.105844   0.000029    0.246860  \n",
            "5146  0.000007    1.000078       0.000218  0.094398   0.000078    0.206706  \n",
            "5147  0.000007    1.000027       0.000269  0.094398   0.000027    0.206706  \n",
            "\n",
            "[5148 rows x 14 columns]\n"
          ]
        },
        {
          "output_type": "stream",
          "name": "stderr",
          "text": [
            "/usr/local/lib/python3.11/dist-packages/ipykernel/ipkernel.py:283: DeprecationWarning: `should_run_async` will not call `transform_cell` automatically in the future. Please pass the result to `transformed_cell` argument and any exception that happen during thetransform in `preprocessing_exc_tuple` in IPython 7.17 and above.\n",
            "  and should_run_async(code)\n"
          ]
        }
      ]
    },
    {
      "cell_type": "markdown",
      "source": [
        "berdasarkan hasil analisis yang kudapatkan barang yang memiliki asosiasi paling berat adalah cover koper dan tas tangan. Oleh karena itu, jika cover koper dan tas tangan diletakkan berdekatan, ada kemungkinan orang yang ingin membeli cover koper akan ikut membeli tas tangan begitu pula sebaliknya.\n",
        "\n"
      ],
      "metadata": {
        "id": "gRm4lSaG8LC1"
      }
    }
  ]
}